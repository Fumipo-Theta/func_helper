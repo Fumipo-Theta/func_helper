{
 "cells": [
  {
   "cell_type": "code",
   "execution_count": 1,
   "metadata": {},
   "outputs": [
    {
     "name": "stdout",
     "output_type": "stream",
     "text": [
      "Deprecated: mapping, filtering, reducing\n",
      "Use func_helper.iterator package\n"
     ]
    }
   ],
   "source": [
    "from functools import reduce\n",
    "import func_helper.func_helper.iterator as it\n",
    "import func_helper.func_helper.transducer as ts\n",
    "import func_helper.func_helper.dictionary as d\n",
    "\n",
    "from func_helper import compose, pip, memoize, trace, Y, recursiveExtender, identity, over_args\n",
    "\n",
    "import numpy as np"
   ]
  },
  {
   "cell_type": "code",
   "execution_count": 2,
   "metadata": {},
   "outputs": [
    {
     "data": {
      "text/plain": [
       "\u001b[1;31mType:\u001b[0m        module\n",
       "\u001b[1;31mString form:\u001b[0m <module 'func_helper.func_helper.dictionary' from 'C:\\\\Users\\\\fmori\\\\Desktop\\\\python3\\\\func_helper\\\\func_helper\\\\dictionary\\\\__init__.py'>\n",
       "\u001b[1;31mFile:\u001b[0m        c:\\users\\fmori\\desktop\\python3\\func_helper\\func_helper\\dictionary\\__init__.py\n",
       "\u001b[1;31mDocstring:\u001b[0m  \n",
       "Accessor for dictionary\n",
       "-----------------------\n",
       "  dig\n",
       "  dig_all\n",
       "  get\n"
      ]
     },
     "metadata": {},
     "output_type": "display_data"
    }
   ],
   "source": [
    "d?"
   ]
  },
  {
   "cell_type": "code",
   "execution_count": 3,
   "metadata": {},
   "outputs": [
    {
     "data": {
      "text/plain": [
       "\u001b[1;31mType:\u001b[0m        module\n",
       "\u001b[1;31mString form:\u001b[0m <module 'func_helper.func_helper.transducer' from 'C:\\\\Users\\\\fmori\\\\Desktop\\\\python3\\\\func_helper\\\\func_helper\\\\transducer\\\\__init__.py'>\n",
       "\u001b[1;31mFile:\u001b[0m        c:\\users\\fmori\\desktop\\python3\\func_helper\\func_helper\\transducer\\__init__.py\n",
       "\u001b[1;31mDocstring:\u001b[0m  \n",
       "Utility for transducer\n",
       "----------------------\n",
       "  intoArray\n",
       "  mappping\n",
       "  filtering\n",
       "  folding\n",
       "  taking\n"
      ]
     },
     "metadata": {},
     "output_type": "display_data"
    }
   ],
   "source": [
    "ts?"
   ]
  },
  {
   "cell_type": "markdown",
   "metadata": {},
   "source": [
    "## Adaptor"
   ]
  },
  {
   "cell_type": "code",
   "execution_count": 45,
   "metadata": {},
   "outputs": [
    {
     "name": "stdout",
     "output_type": "stream",
     "text": [
      "[2, 3, 1]\n"
     ]
    }
   ],
   "source": [
    "# flip\n",
    "\n",
    "def flip(func):\n",
    "    \"\"\"\n",
    "    assert(flip(identity)(1) == [1])\n",
    "    assert(flip(identity)([1]) == [1])\n",
    "    assert(flip(identity)(1,2,3) == [2,3,1])\n",
    "    assert(flip(identity)([1,2,3]) == [2,3,1])\n",
    "    \"\"\"\n",
    "    def f(*arg):\n",
    "        first, *rest = arg[0] if type(arg[0]) in (list, tuple) else arg\n",
    "        return func([*rest, first])\n",
    "    return f\n",
    "\n",
    "\n",
    "assert(flip(identity)(1) == [1])\n",
    "assert(flip(identity)([1]) == [1])\n",
    "assert(flip(identity)(1,2,3) == [2,3,1])\n",
    "assert(flip(identity)([1,2,3]) == [2,3,1])"
   ]
  },
  {
   "cell_type": "code",
   "execution_count": 46,
   "metadata": {},
   "outputs": [],
   "source": [
    "# over\n",
    "\n",
    "def over(*funcs):\n",
    "    \"\"\"\n",
    "    extent = over(np.min, np.max)\n",
    "    assert(list(extent([0,1,2,3,4,5])) == [0,5])\n",
    "    \"\"\"\n",
    "    return lambda *arg: map(lambda f: f(*arg), funcs)\n",
    "\n",
    "extent = over(np.min, np.max)\n",
    "\n",
    "assert(list(extent([0,1,2,3,4,5])) ==[0,5])"
   ]
  },
  {
   "cell_type": "code",
   "execution_count": 74,
   "metadata": {},
   "outputs": [
    {
     "data": {
      "text/plain": [
       "[10, 25]"
      ]
     },
     "execution_count": 74,
     "metadata": {},
     "output_type": "execute_result"
    }
   ],
   "source": [
    "multiple = lambda x: lambda y: x * y\n",
    "square = lambda x: x**2\n",
    "\n",
    "over_args(identity, [multiple(10), square])(1, 5)"
   ]
  },
  {
   "cell_type": "markdown",
   "metadata": {},
   "source": [
    "## Function"
   ]
  },
  {
   "cell_type": "code",
   "execution_count": 2,
   "metadata": {},
   "outputs": [],
   "source": [
    "add = lambda x: lambda y: x+y\n",
    "multiple = lambda x: lambda y: x * y\n",
    "square = lambda x: x**2\n",
    "\n",
    "equivarent = lambda x: square(multiple(3)(add(5)(x)))\n",
    "\n",
    "composed = compose(square, multiple(3), add(5))\n",
    "\n",
    "assert(equivarent(0) == composed(0))\n",
    "assert(equivarent(-1) == composed(-1))\n",
    "assert(equivarent(10) == composed(10))"
   ]
  },
  {
   "cell_type": "code",
   "execution_count": 3,
   "metadata": {},
   "outputs": [
    {
     "data": {
      "text/plain": [
       "4"
      ]
     },
     "execution_count": 3,
     "metadata": {},
     "output_type": "execute_result"
    }
   ],
   "source": [
    "(lambda x: x*2)(2)"
   ]
  },
  {
   "cell_type": "code",
   "execution_count": 3,
   "metadata": {},
   "outputs": [
    {
     "name": "stdout",
     "output_type": "stream",
     "text": [
      "called with argument (2, 3)\n"
     ]
    },
    {
     "data": {
      "text/plain": [
       "5"
      ]
     },
     "execution_count": 3,
     "metadata": {},
     "output_type": "execute_result"
    }
   ],
   "source": [
    "traced_add = trace(lambda x,y: x+y)\n",
    "traced_add(2,3)"
   ]
  },
  {
   "cell_type": "code",
   "execution_count": 4,
   "metadata": {},
   "outputs": [
    {
     "name": "stdout",
     "output_type": "stream",
     "text": [
      "called with argument (5,)\n"
     ]
    },
    {
     "data": {
      "text/plain": [
       "25"
      ]
     },
     "execution_count": 4,
     "metadata": {},
     "output_type": "execute_result"
    }
   ],
   "source": [
    "traced_square = trace(lambda a: a**2)\n",
    "traced_square(5)"
   ]
  },
  {
   "cell_type": "markdown",
   "metadata": {},
   "source": [
    "## recursive function"
   ]
  },
  {
   "cell_type": "code",
   "execution_count": 2,
   "metadata": {},
   "outputs": [],
   "source": [
    "\n",
    "\n",
    "def fib_template(f):\n",
    "    \"\"\"\n",
    "    F -> (a -> F.a)\n",
    "    \"\"\"\n",
    "    def func(arg):\n",
    "        n = int(arg)\n",
    "        if n < 2:\n",
    "            return 1\n",
    "        else:\n",
    "            return f(n-1) + f(n-2)\n",
    "    return func\n",
    "            \n",
    "fib = Y(fib_template)\n",
    "traced_fib=Y(recursiveExtender(trace)(fib_template))"
   ]
  },
  {
   "cell_type": "code",
   "execution_count": 6,
   "metadata": {},
   "outputs": [
    {
     "data": {
      "text/plain": [
       "8"
      ]
     },
     "execution_count": 6,
     "metadata": {},
     "output_type": "execute_result"
    }
   ],
   "source": [
    "fib(5)"
   ]
  },
  {
   "cell_type": "code",
   "execution_count": 21,
   "metadata": {},
   "outputs": [
    {
     "name": "stdout",
     "output_type": "stream",
     "text": [
      "called with argument 4\n",
      "called with argument 3\n",
      "called with argument 2\n",
      "called with argument 1\n",
      "called with argument 0\n",
      "called with argument 1\n",
      "called with argument 2\n",
      "called with argument 1\n",
      "called with argument 0\n",
      "called with argument 3\n",
      "called with argument 2\n",
      "called with argument 1\n",
      "called with argument 0\n",
      "called with argument 1\n"
     ]
    },
    {
     "data": {
      "text/plain": [
       "8"
      ]
     },
     "execution_count": 21,
     "metadata": {},
     "output_type": "execute_result"
    }
   ],
   "source": [
    "traced_fib(5)"
   ]
  },
  {
   "cell_type": "code",
   "execution_count": 3,
   "metadata": {},
   "outputs": [
    {
     "name": "stdout",
     "output_type": "stream",
     "text": [
      "called with argument (4,)\n",
      "called with argument (3,)\n",
      "called with argument (2,)\n",
      "called with argument (1,)\n",
      "called with argument (0,)\n",
      "called with argument (1,)\n",
      "called with argument (2,)\n",
      "called with argument (3,)\n"
     ]
    },
    {
     "data": {
      "text/plain": [
       "8"
      ]
     },
     "execution_count": 3,
     "metadata": {},
     "output_type": "execute_result"
    }
   ],
   "source": [
    "memo_fib = Y(recursiveExtender(memoize())(\n",
    "    recursiveExtender(trace)(fib_template)\n",
    "))\n",
    "memo_fib(5)"
   ]
  },
  {
   "cell_type": "code",
   "execution_count": 8,
   "metadata": {},
   "outputs": [
    {
     "name": "stdout",
     "output_type": "stream",
     "text": [
      "called with argument (49,)\n",
      "called with argument (48,)\n",
      "called with argument (47,)\n",
      "called with argument (46,)\n",
      "called with argument (45,)\n",
      "called with argument (44,)\n",
      "called with argument (43,)\n",
      "called with argument (42,)\n",
      "called with argument (41,)\n",
      "called with argument (40,)\n",
      "called with argument (39,)\n",
      "called with argument (38,)\n",
      "called with argument (37,)\n",
      "called with argument (36,)\n",
      "called with argument (35,)\n",
      "called with argument (34,)\n",
      "called with argument (33,)\n",
      "called with argument (32,)\n",
      "called with argument (31,)\n",
      "called with argument (30,)\n",
      "called with argument (29,)\n",
      "called with argument (28,)\n",
      "called with argument (27,)\n",
      "called with argument (26,)\n",
      "called with argument (25,)\n",
      "called with argument (24,)\n",
      "called with argument (23,)\n",
      "called with argument (22,)\n",
      "called with argument (21,)\n",
      "called with argument (20,)\n",
      "called with argument (19,)\n",
      "called with argument (18,)\n",
      "called with argument (17,)\n",
      "called with argument (16,)\n",
      "called with argument (15,)\n",
      "called with argument (14,)\n",
      "called with argument (13,)\n",
      "called with argument (12,)\n",
      "called with argument (11,)\n",
      "called with argument (10,)\n",
      "called with argument (9,)\n",
      "called with argument (8,)\n",
      "called with argument (7,)\n",
      "called with argument (6,)\n",
      "called with argument (5,)\n",
      "called with argument (4,)\n",
      "called with argument (3,)\n",
      "called with argument (4,)\n",
      "called with argument (5,)\n",
      "called with argument (6,)\n",
      "called with argument (7,)\n",
      "called with argument (8,)\n",
      "called with argument (9,)\n",
      "called with argument (10,)\n",
      "called with argument (11,)\n",
      "called with argument (12,)\n",
      "called with argument (13,)\n",
      "called with argument (14,)\n",
      "called with argument (15,)\n",
      "called with argument (16,)\n",
      "called with argument (17,)\n",
      "called with argument (18,)\n",
      "called with argument (19,)\n",
      "called with argument (20,)\n",
      "called with argument (21,)\n",
      "called with argument (22,)\n",
      "called with argument (23,)\n",
      "called with argument (24,)\n",
      "called with argument (25,)\n",
      "called with argument (26,)\n",
      "called with argument (27,)\n",
      "called with argument (28,)\n",
      "called with argument (29,)\n",
      "called with argument (30,)\n",
      "called with argument (31,)\n",
      "called with argument (32,)\n",
      "called with argument (33,)\n",
      "called with argument (34,)\n",
      "called with argument (35,)\n",
      "called with argument (36,)\n",
      "called with argument (37,)\n",
      "called with argument (38,)\n",
      "called with argument (39,)\n",
      "called with argument (40,)\n",
      "called with argument (41,)\n",
      "called with argument (42,)\n",
      "called with argument (43,)\n",
      "called with argument (44,)\n",
      "called with argument (45,)\n",
      "called with argument (46,)\n",
      "called with argument (47,)\n",
      "called with argument (48,)\n"
     ]
    },
    {
     "data": {
      "text/plain": [
       "20365011074"
      ]
     },
     "execution_count": 8,
     "metadata": {},
     "output_type": "execute_result"
    }
   ],
   "source": [
    "memo_fib(50)"
   ]
  },
  {
   "cell_type": "markdown",
   "metadata": {},
   "source": [
    "## transducer"
   ]
  },
  {
   "cell_type": "code",
   "execution_count": 9,
   "metadata": {},
   "outputs": [
    {
     "data": {
      "text/plain": [
       "\u001b[1;31mType:\u001b[0m        module\n",
       "\u001b[1;31mString form:\u001b[0m <module 'func_helper.func_helper.transducer' from 'C:\\\\Users\\\\fmori\\\\Desktop\\\\python3\\\\func_helper\\\\func_helper\\\\transducer\\\\__init__.py'>\n",
       "\u001b[1;31mFile:\u001b[0m        c:\\users\\fmori\\desktop\\python3\\func_helper\\func_helper\\transducer\\__init__.py\n",
       "\u001b[1;31mDocstring:\u001b[0m  \n",
       "Utility for transducer\n",
       "----------------------\n",
       "  intoArray\n",
       "  mapping\n",
       "  filtering\n",
       "  folding\n",
       "  taking\n"
      ]
     },
     "metadata": {},
     "output_type": "display_data"
    }
   ],
   "source": [
    "ts?"
   ]
  },
  {
   "cell_type": "code",
   "execution_count": 5,
   "metadata": {},
   "outputs": [
    {
     "data": {
      "text/plain": [
       "[4, 16, 36, 64]"
      ]
     },
     "execution_count": 5,
     "metadata": {},
     "output_type": "execute_result"
    }
   ],
   "source": [
    "ts.intoArray(\n",
    "    ts.mapping(lambda a: a+ 2),\n",
    "    ts.mapping(lambda a: a**2),\n",
    "    ts.filtering(lambda a: a%2 == 0)\n",
    ")(range(7))"
   ]
  },
  {
   "cell_type": "markdown",
   "metadata": {},
   "source": [
    "## iterator"
   ]
  },
  {
   "cell_type": "code",
   "execution_count": 8,
   "metadata": {},
   "outputs": [
    {
     "data": {
      "text/plain": [
       "\u001b[1;31mType:\u001b[0m        module\n",
       "\u001b[1;31mString form:\u001b[0m <module 'func_helper.func_helper.iterator' from 'C:\\\\Users\\\\fmori\\\\Desktop\\\\python3\\\\func_helper\\\\func_helper\\\\iterator\\\\__init__.py'>\n",
       "\u001b[1;31mFile:\u001b[0m        c:\\users\\fmori\\desktop\\python3\\func_helper\\func_helper\\iterator\\__init__.py\n",
       "\u001b[1;31mDocstring:\u001b[0m  \n",
       "Utility for iterator\n",
       "--------------------\n",
       "  mapping\n",
       "  filtering\n",
       "  reducing\n",
       "\n",
       "Utility for varidation\n",
       "----------------------\n",
       "  is_all\n",
       "  is_any\n",
       "  all_equal\n"
      ]
     },
     "metadata": {},
     "output_type": "display_data"
    }
   ],
   "source": [
    "it?"
   ]
  },
  {
   "cell_type": "code",
   "execution_count": 7,
   "metadata": {},
   "outputs": [
    {
     "data": {
      "text/plain": [
       "[4, 16, 36, 64]"
      ]
     },
     "execution_count": 7,
     "metadata": {},
     "output_type": "execute_result"
    }
   ],
   "source": [
    "pip(\n",
    "    it.mapping(lambda a: a+2),\n",
    "    it.mapping(lambda a: a**2),\n",
    "    it.filtering(lambda a: a%2 == 0),\n",
    "    list\n",
    ")(range(7))"
   ]
  },
  {
   "cell_type": "markdown",
   "metadata": {},
   "source": [
    "# dict"
   ]
  },
  {
   "cell_type": "code",
   "execution_count": 10,
   "metadata": {},
   "outputs": [
    {
     "data": {
      "text/plain": [
       "\u001b[1;31mType:\u001b[0m        module\n",
       "\u001b[1;31mString form:\u001b[0m <module 'func_helper.func_helper.dictionary' from 'C:\\\\Users\\\\fmori\\\\Desktop\\\\python3\\\\func_helper\\\\func_helper\\\\dictionary\\\\__init__.py'>\n",
       "\u001b[1;31mFile:\u001b[0m        c:\\users\\fmori\\desktop\\python3\\func_helper\\func_helper\\dictionary\\__init__.py\n",
       "\u001b[1;31mDocstring:\u001b[0m  \n",
       "Accessor for dictionary\n",
       "-----------------------\n",
       "  dig\n",
       "  dig_all\n",
       "  get\n"
      ]
     },
     "metadata": {},
     "output_type": "display_data"
    }
   ],
   "source": [
    "d?"
   ]
  },
  {
   "cell_type": "code",
   "execution_count": 5,
   "metadata": {},
   "outputs": [],
   "source": [
    "obj = {\n",
    "    \"a\": {\n",
    "        \"level1\" : {\n",
    "            \"level2\" : {\n",
    "                \"level3\" : [0]\n",
    "            },\n",
    "            \"side\" : 0,\n",
    "            0 : 0\n",
    "        }\n",
    "    },\n",
    "    \"b\" : {\n",
    "        \"level1\" : {\n",
    "            \"level2\" : {\n",
    "                \"level3\" : [1]\n",
    "            }\n",
    "        }\n",
    "    },\n",
    "    \"c\" : {\n",
    "        \"array\" : [\n",
    "            {\"x\" : [{\"inner_x\": [{\"inner_x\" : 0},{\"inner_inner_x\": 0}]}]},\n",
    "            {\"y\" : [0,1,2]}\n",
    "        ],\n",
    "        \"0\" : \"0_in_c\"\n",
    "    }\n",
    "}"
   ]
  },
  {
   "cell_type": "markdown",
   "metadata": {},
   "source": [
    "### dig, dig_all, doc_access"
   ]
  },
  {
   "cell_type": "code",
   "execution_count": 669,
   "metadata": {},
   "outputs": [
    {
     "name": "stdout",
     "output_type": "stream",
     "text": [
      "empty\n"
     ]
    }
   ],
   "source": [
    "if not [] :print(\"empty\")"
   ]
  },
  {
   "cell_type": "code",
   "execution_count": 670,
   "metadata": {},
   "outputs": [
    {
     "name": "stdout",
     "output_type": "stream",
     "text": [
      "a1b[1][21][3]\n",
      "['a1b'] list name\n",
      "['1', '21', '3'] index\n",
      "[] invarid syntax after index\n",
      "a1b\n",
      "['a1b'] list name\n",
      "[] index\n",
      "[] invarid syntax after index\n",
      "a1b[][]\n",
      "['a1b'] list name\n",
      "[] index\n",
      "[] invarid syntax after index\n",
      "\n",
      "[] list name\n",
      "[] index\n",
      "[] invarid syntax after index\n",
      "a1b[1]a[2]\n",
      "['a1b'] list name\n",
      "['1', '2'] index\n",
      "[']a'] invarid syntax after index\n",
      "array[0]x\n",
      "['array'] list name\n",
      "['0'] index\n",
      "[']x'] invarid syntax after index\n"
     ]
    }
   ],
   "source": [
    "s = [\n",
    "    \"a1b[1][21][3]\",\n",
    "    \"a1b\",\n",
    "    \"a1b[][]\",\n",
    "    \"\",\n",
    "    \"a1b[1]a[2]\",\n",
    "    \"array[0]x\"\n",
    "]\n",
    "\n",
    "for e in s:\n",
    "    print(e)\n",
    "    print(re.findall(r\"^([\\w\\d]+)\",e), \"list name\")\n",
    "    print(re.findall(r\"\\[(\\d+)\\]\",e), \"index\")\n",
    "    print(re.findall(r\"(\\][\\w\\d])\",e), \"invarid syntax after index\")\n",
    "    \n"
   ]
  },
  {
   "cell_type": "code",
   "execution_count": 6,
   "metadata": {},
   "outputs": [],
   "source": [
    "assert(d.dig(obj, \"level1\") == {\n",
    "    \"level2\": {\n",
    "        \"level3\": [0]\n",
    "    }, \n",
    "    \"side\": 0, \n",
    "    0 : 0\n",
    "})"
   ]
  },
  {
   "cell_type": "code",
   "execution_count": 7,
   "metadata": {},
   "outputs": [],
   "source": [
    "assert(d.dig(obj, \"level4\") == None)\n",
    "assert(d.dig(obj, 0) == 0)\n",
    "assert(d.dig(obj, \"0\") == '0_in_c')"
   ]
  },
  {
   "cell_type": "code",
   "execution_count": 8,
   "metadata": {},
   "outputs": [],
   "source": [
    "assert(d.dig(obj, \"inner_x\", False) == None)\n",
    "assert(d.dig_all(obj, \"inner_inner_x\", True) == [(0, '.c.array[0].x[0].inner_x[1].inner_inner_x')])"
   ]
  },
  {
   "cell_type": "code",
   "execution_count": 9,
   "metadata": {},
   "outputs": [],
   "source": [
    "assert(d.dig_all(obj,\"level3\") == [\n",
    "    ([0], '.a.level1.level2.level3'), \n",
    "    ([1], '.b.level1.level2.level3')\n",
    "])\n"
   ]
  },
  {
   "cell_type": "code",
   "execution_count": 10,
   "metadata": {},
   "outputs": [],
   "source": [
    "assert(d.dig_all(obj, \"x\", True) == [([{'inner_x': [{'inner_x':0},{'inner_inner_x': 0}]}], '.c.array[0].x')])"
   ]
  },
  {
   "cell_type": "code",
   "execution_count": 11,
   "metadata": {},
   "outputs": [
    {
     "data": {
      "text/plain": [
       "[([{'inner_x': 0}, {'inner_inner_x': 0}], '.c.array[0].x[0].inner_x'),\n",
       " (0, '.c.array[0].x[0].inner_x[0].inner_x')]"
      ]
     },
     "execution_count": 11,
     "metadata": {},
     "output_type": "execute_result"
    }
   ],
   "source": [
    "d.dig_all(obj, \"inner_x\", True)"
   ]
  },
  {
   "cell_type": "code",
   "execution_count": 12,
   "metadata": {},
   "outputs": [
    {
     "data": {
      "text/plain": [
       "0"
      ]
     },
     "execution_count": 12,
     "metadata": {},
     "output_type": "execute_result"
    }
   ],
   "source": [
    "d.get(obj, \"a\",\"level1\",0)"
   ]
  },
  {
   "cell_type": "code",
   "execution_count": 13,
   "metadata": {},
   "outputs": [
    {
     "data": {
      "text/plain": [
       "1"
      ]
     },
     "execution_count": 13,
     "metadata": {},
     "output_type": "execute_result"
    }
   ],
   "source": [
    "d.get(obj, \"b.level3\", 0)"
   ]
  },
  {
   "cell_type": "code",
   "execution_count": 14,
   "metadata": {},
   "outputs": [
    {
     "name": "stdout",
     "output_type": "stream",
     "text": [
      "['.c'] : {'array': [{'x': [{'inner_x': [{'inner_x': 0}, {'inner_inner_x': 0}]}]}, {'y': [0, 1, 2]}], '0': '0_in_c'}\n",
      "['.c.array'] : [{'x': [{'inner_x': [{'inner_x': 0}, {'inner_inner_x': 0}]}]}, {'y': [0, 1, 2]}]\n",
      "['.c.array[0]'] : {'x': [{'inner_x': [{'inner_x': 0}, {'inner_inner_x': 0}]}]}\n",
      "['.c.array[0].x'] : [{'inner_x': [{'inner_x': 0}, {'inner_inner_x': 0}]}]\n",
      "['.c.array.x'] : [{'inner_x': [{'inner_x': 0}, {'inner_inner_x': 0}]}]\n",
      "['.c.array[1]'] : {'y': [0, 1, 2]}\n",
      "['.c.array', '[1]'] : {'y': [0, 1, 2]}\n",
      "['.c.array.inner_x'] : [{'inner_x': 0}, {'inner_inner_x': 0}]\n",
      "['.c.array.inner_x.inner_x'] : 0\n",
      "['c', 0] : None\n",
      "['c', '0'] : 0_in_c\n",
      "['c.0'] : 0_in_c\n",
      "['c.array[0]x'] : Syntax Error\n"
     ]
    }
   ],
   "source": [
    "pattern = [\n",
    "    [\".c\"],\n",
    "    [\".c.array\"],\n",
    "    [\".c.array[0]\"],\n",
    "    [\".c.array[0].x\"],\n",
    "    [\".c.array.x\"],\n",
    "    [\".c.array[1]\"],\n",
    "    [\".c.array\", \"[1]\"],\n",
    "    [\".c.array.inner_x\"],\n",
    "    [\".c.array.inner_x.inner_x\"],\n",
    "    [\"c\", 0],\n",
    "    [\"c\", \"0\"],\n",
    "    [\"c.0\"],\n",
    "    [\"c.array[0]x\"]\n",
    "]\n",
    "\n",
    "for p in pattern:\n",
    "    try:\n",
    "        print(p, \":\",d.get(obj, *p))\n",
    "    except SyntaxError:\n",
    "        print(p, \":\",\"Syntax Error\")"
   ]
  },
  {
   "cell_type": "code",
   "execution_count": null,
   "metadata": {},
   "outputs": [],
   "source": []
  }
 ],
 "metadata": {
  "jupytext": {
   "formats": "ipynb,py"
  },
  "kernelspec": {
   "display_name": "Python 3",
   "language": "python",
   "name": "python3"
  },
  "language_info": {
   "codemirror_mode": {
    "name": "ipython",
    "version": 3
   },
   "file_extension": ".py",
   "mimetype": "text/x-python",
   "name": "python",
   "nbconvert_exporter": "python",
   "pygments_lexer": "ipython3",
   "version": "3.7.0"
  }
 },
 "nbformat": 4,
 "nbformat_minor": 2
}
