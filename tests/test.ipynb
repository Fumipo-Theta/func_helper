{
 "cells": [
  {
   "cell_type": "code",
   "execution_count": 47,
   "metadata": {},
   "outputs": [],
   "source": [
    "from functools import reduce\n",
    "import func_helper.func_helper.iterator as it\n",
    "import func_helper.func_helper.transducer as ts\n",
    "\n",
    "from func_helper import compose, pip, memoize, trace, Y, recursiveExtender, identity\n",
    "\n",
    "import numpy as np"
   ]
  },
  {
   "cell_type": "markdown",
   "metadata": {},
   "source": [
    "## Adaptor"
   ]
  },
  {
   "cell_type": "code",
   "execution_count": 45,
   "metadata": {},
   "outputs": [
    {
     "name": "stdout",
     "output_type": "stream",
     "text": [
      "[2, 3, 1]\n"
     ]
    }
   ],
   "source": [
    "# flip\n",
    "\n",
    "def flip(func):\n",
    "    \"\"\"\n",
    "    assert(flip(identity)(1) == [1])\n",
    "    assert(flip(identity)([1]) == [1])\n",
    "    assert(flip(identity)(1,2,3) == [2,3,1])\n",
    "    assert(flip(identity)([1,2,3]) == [2,3,1])\n",
    "    \"\"\"\n",
    "    def f(*arg):\n",
    "        first, *rest = arg[0] if type(arg[0]) in (list, tuple) else arg\n",
    "        return func([*rest, first])\n",
    "    return f\n",
    "\n",
    "\n",
    "assert(flip(identity)(1) == [1])\n",
    "assert(flip(identity)([1]) == [1])\n",
    "assert(flip(identity)(1,2,3) == [2,3,1])\n",
    "assert(flip(identity)([1,2,3]) == [2,3,1])"
   ]
  },
  {
   "cell_type": "code",
   "execution_count": 46,
   "metadata": {},
   "outputs": [],
   "source": [
    "# over\n",
    "\n",
    "def over(*funcs):\n",
    "    \"\"\"\n",
    "    extent = over(np.min, np.max)\n",
    "    assert(list(extent([0,1,2,3,4,5])) == [0,5])\n",
    "    \"\"\"\n",
    "    return lambda *arg: map(lambda f: f(*arg), funcs)\n",
    "\n",
    "extent = over(np.min, np.max)\n",
    "\n",
    "assert(list(extent([0,1,2,3,4,5])) ==[0,5])"
   ]
  },
  {
   "cell_type": "code",
   "execution_count": 69,
   "metadata": {},
   "outputs": [],
   "source": []
  },
  {
   "cell_type": "markdown",
   "metadata": {},
   "source": [
    "## Function"
   ]
  },
  {
   "cell_type": "code",
   "execution_count": 2,
   "metadata": {},
   "outputs": [],
   "source": [
    "add = lambda x: lambda y: x+y\n",
    "multiple = lambda x: lambda y: x * y\n",
    "square = lambda x: x**2\n",
    "\n",
    "equivarent = lambda x: square(multiple(3)(add(5)(x)))\n",
    "\n",
    "composed = compose(square, multiple(3), add(5))\n",
    "\n",
    "assert(equivarent(0) == composed(0))\n",
    "assert(equivarent(-1) == composed(-1))\n",
    "assert(equivarent(10) == composed(10))"
   ]
  },
  {
   "cell_type": "code",
   "execution_count": 3,
   "metadata": {},
   "outputs": [
    {
     "data": {
      "text/plain": [
       "4"
      ]
     },
     "execution_count": 3,
     "metadata": {},
     "output_type": "execute_result"
    }
   ],
   "source": [
    "(lambda x: x*2)(2)"
   ]
  },
  {
   "cell_type": "code",
   "execution_count": 3,
   "metadata": {},
   "outputs": [
    {
     "name": "stdout",
     "output_type": "stream",
     "text": [
      "called with argument (2, 3)\n"
     ]
    },
    {
     "data": {
      "text/plain": [
       "5"
      ]
     },
     "execution_count": 3,
     "metadata": {},
     "output_type": "execute_result"
    }
   ],
   "source": [
    "traced_add = trace(lambda x,y: x+y)\n",
    "traced_add(2,3)"
   ]
  },
  {
   "cell_type": "code",
   "execution_count": 4,
   "metadata": {},
   "outputs": [
    {
     "name": "stdout",
     "output_type": "stream",
     "text": [
      "called with argument (5,)\n"
     ]
    },
    {
     "data": {
      "text/plain": [
       "25"
      ]
     },
     "execution_count": 4,
     "metadata": {},
     "output_type": "execute_result"
    }
   ],
   "source": [
    "traced_square = trace(lambda a: a**2)\n",
    "traced_square(5)"
   ]
  },
  {
   "cell_type": "markdown",
   "metadata": {},
   "source": [
    "## recursive function"
   ]
  },
  {
   "cell_type": "code",
   "execution_count": 5,
   "metadata": {},
   "outputs": [],
   "source": [
    "\n",
    "\n",
    "def fib_template(f):\n",
    "    \"\"\"\n",
    "    F -> (a -> F.a)\n",
    "    \"\"\"\n",
    "    def func(arg):\n",
    "        n = int(arg)\n",
    "        if n < 2:\n",
    "            return 1\n",
    "        else:\n",
    "            return f(n-1) + f(n-2)\n",
    "    return func\n",
    "            \n",
    "fib = Y(fib_template)\n",
    "traced_fib=Y(recursiveExtender(trace)(fib_template))"
   ]
  },
  {
   "cell_type": "code",
   "execution_count": 6,
   "metadata": {},
   "outputs": [
    {
     "data": {
      "text/plain": [
       "8"
      ]
     },
     "execution_count": 6,
     "metadata": {},
     "output_type": "execute_result"
    }
   ],
   "source": [
    "fib(5)"
   ]
  },
  {
   "cell_type": "code",
   "execution_count": 21,
   "metadata": {},
   "outputs": [
    {
     "name": "stdout",
     "output_type": "stream",
     "text": [
      "called with argument 4\n",
      "called with argument 3\n",
      "called with argument 2\n",
      "called with argument 1\n",
      "called with argument 0\n",
      "called with argument 1\n",
      "called with argument 2\n",
      "called with argument 1\n",
      "called with argument 0\n",
      "called with argument 3\n",
      "called with argument 2\n",
      "called with argument 1\n",
      "called with argument 0\n",
      "called with argument 1\n"
     ]
    },
    {
     "data": {
      "text/plain": [
       "8"
      ]
     },
     "execution_count": 21,
     "metadata": {},
     "output_type": "execute_result"
    }
   ],
   "source": [
    "traced_fib(5)"
   ]
  },
  {
   "cell_type": "code",
   "execution_count": 7,
   "metadata": {},
   "outputs": [
    {
     "name": "stdout",
     "output_type": "stream",
     "text": [
      "called with argument (4,)\n",
      "called with argument (3,)\n",
      "called with argument (2,)\n",
      "called with argument (1,)\n",
      "called with argument (0,)\n",
      "called with argument (1,)\n",
      "called with argument (2,)\n",
      "called with argument (3,)\n"
     ]
    },
    {
     "data": {
      "text/plain": [
       "8"
      ]
     },
     "execution_count": 7,
     "metadata": {},
     "output_type": "execute_result"
    }
   ],
   "source": [
    "memo_fib = Y(recursiveExtender(memoize())(\n",
    "    recursiveExtender(trace)(fib_template)\n",
    "))\n",
    "memo_fib(5)"
   ]
  },
  {
   "cell_type": "code",
   "execution_count": 8,
   "metadata": {},
   "outputs": [
    {
     "name": "stdout",
     "output_type": "stream",
     "text": [
      "called with argument (49,)\n",
      "called with argument (48,)\n",
      "called with argument (47,)\n",
      "called with argument (46,)\n",
      "called with argument (45,)\n",
      "called with argument (44,)\n",
      "called with argument (43,)\n",
      "called with argument (42,)\n",
      "called with argument (41,)\n",
      "called with argument (40,)\n",
      "called with argument (39,)\n",
      "called with argument (38,)\n",
      "called with argument (37,)\n",
      "called with argument (36,)\n",
      "called with argument (35,)\n",
      "called with argument (34,)\n",
      "called with argument (33,)\n",
      "called with argument (32,)\n",
      "called with argument (31,)\n",
      "called with argument (30,)\n",
      "called with argument (29,)\n",
      "called with argument (28,)\n",
      "called with argument (27,)\n",
      "called with argument (26,)\n",
      "called with argument (25,)\n",
      "called with argument (24,)\n",
      "called with argument (23,)\n",
      "called with argument (22,)\n",
      "called with argument (21,)\n",
      "called with argument (20,)\n",
      "called with argument (19,)\n",
      "called with argument (18,)\n",
      "called with argument (17,)\n",
      "called with argument (16,)\n",
      "called with argument (15,)\n",
      "called with argument (14,)\n",
      "called with argument (13,)\n",
      "called with argument (12,)\n",
      "called with argument (11,)\n",
      "called with argument (10,)\n",
      "called with argument (9,)\n",
      "called with argument (8,)\n",
      "called with argument (7,)\n",
      "called with argument (6,)\n",
      "called with argument (5,)\n",
      "called with argument (4,)\n",
      "called with argument (3,)\n",
      "called with argument (4,)\n",
      "called with argument (5,)\n",
      "called with argument (6,)\n",
      "called with argument (7,)\n",
      "called with argument (8,)\n",
      "called with argument (9,)\n",
      "called with argument (10,)\n",
      "called with argument (11,)\n",
      "called with argument (12,)\n",
      "called with argument (13,)\n",
      "called with argument (14,)\n",
      "called with argument (15,)\n",
      "called with argument (16,)\n",
      "called with argument (17,)\n",
      "called with argument (18,)\n",
      "called with argument (19,)\n",
      "called with argument (20,)\n",
      "called with argument (21,)\n",
      "called with argument (22,)\n",
      "called with argument (23,)\n",
      "called with argument (24,)\n",
      "called with argument (25,)\n",
      "called with argument (26,)\n",
      "called with argument (27,)\n",
      "called with argument (28,)\n",
      "called with argument (29,)\n",
      "called with argument (30,)\n",
      "called with argument (31,)\n",
      "called with argument (32,)\n",
      "called with argument (33,)\n",
      "called with argument (34,)\n",
      "called with argument (35,)\n",
      "called with argument (36,)\n",
      "called with argument (37,)\n",
      "called with argument (38,)\n",
      "called with argument (39,)\n",
      "called with argument (40,)\n",
      "called with argument (41,)\n",
      "called with argument (42,)\n",
      "called with argument (43,)\n",
      "called with argument (44,)\n",
      "called with argument (45,)\n",
      "called with argument (46,)\n",
      "called with argument (47,)\n",
      "called with argument (48,)\n"
     ]
    },
    {
     "data": {
      "text/plain": [
       "20365011074"
      ]
     },
     "execution_count": 8,
     "metadata": {},
     "output_type": "execute_result"
    }
   ],
   "source": [
    "memo_fib(50)"
   ]
  },
  {
   "cell_type": "markdown",
   "metadata": {},
   "source": [
    "## transducer"
   ]
  },
  {
   "cell_type": "code",
   "execution_count": 2,
   "metadata": {},
   "outputs": [
    {
     "data": {
      "text/plain": [
       "\u001b[1;31mSignature:\u001b[0m \u001b[0mts\u001b[0m\u001b[1;33m.\u001b[0m\u001b[0mintoArray\u001b[0m\u001b[1;33m(\u001b[0m\u001b[1;33m*\u001b[0m\u001b[0mfuncs\u001b[0m\u001b[1;33m)\u001b[0m\u001b[1;33m\u001b[0m\u001b[0m\n",
       "\u001b[1;31mDocstring:\u001b[0m <no docstring>\n",
       "\u001b[1;31mFile:\u001b[0m      c:\\users\\fmori\\desktop\\python3\\func_helper\\func_helper\\transducer\\transducer.py\n",
       "\u001b[1;31mType:\u001b[0m      function\n"
      ]
     },
     "metadata": {},
     "output_type": "display_data"
    }
   ],
   "source": [
    "ts.intoArray?"
   ]
  },
  {
   "cell_type": "code",
   "execution_count": 6,
   "metadata": {},
   "outputs": [
    {
     "data": {
      "text/plain": [
       "[4, 16, 36, 64]"
      ]
     },
     "execution_count": 6,
     "metadata": {},
     "output_type": "execute_result"
    }
   ],
   "source": [
    "ts.intoArray(\n",
    "    ts.mapping(lambda a: a+ 2),\n",
    "    ts.mapping(lambda a: a**2),\n",
    "    ts.filtering(lambda a: a%2 == 0)\n",
    ")(range(7))"
   ]
  },
  {
   "cell_type": "markdown",
   "metadata": {},
   "source": [
    "## iterator"
   ]
  },
  {
   "cell_type": "code",
   "execution_count": 2,
   "metadata": {},
   "outputs": [
    {
     "data": {
      "text/plain": [
       "\u001b[1;31mSignature:\u001b[0m \u001b[0mit\u001b[0m\u001b[1;33m.\u001b[0m\u001b[0mmapping\u001b[0m\u001b[1;33m(\u001b[0m\u001b[0mmapFunc\u001b[0m\u001b[1;33m)\u001b[0m\u001b[1;33m\u001b[0m\u001b[0m\n",
       "\u001b[1;31mDocstring:\u001b[0m <no docstring>\n",
       "\u001b[1;31mFile:\u001b[0m      c:\\users\\fmori\\desktop\\python3\\func_helper\\func_helper\\iterator\\iterator.py\n",
       "\u001b[1;31mType:\u001b[0m      function\n"
      ]
     },
     "metadata": {},
     "output_type": "display_data"
    }
   ],
   "source": [
    "it.mapping?"
   ]
  },
  {
   "cell_type": "code",
   "execution_count": 4,
   "metadata": {},
   "outputs": [
    {
     "data": {
      "text/plain": [
       "[4, 16, 36, 64]"
      ]
     },
     "execution_count": 4,
     "metadata": {},
     "output_type": "execute_result"
    }
   ],
   "source": [
    "pip(\n",
    "    it.mapping(lambda a: a+2),\n",
    "    it.mapping(lambda a: a**2),\n",
    "    it.filtering(lambda a: a%2 == 0),\n",
    "    list\n",
    ")(range(7))"
   ]
  },
  {
   "cell_type": "code",
   "execution_count": 70,
   "metadata": {},
   "outputs": [],
   "source": [
    "def is_all(pred):\n",
    "    \"\"\"\n",
    "    pred: a -> bool\n",
    "    arr: list, tuple\n",
    "    \n",
    "    assert(is_all(lambda x: x > 0)([1,2,3,4, 5]) is True)\n",
    "    assert(is_all(lambda x: x > 0)((1,2,3,4, 0)) is not True)\n",
    "    \"\"\"\n",
    "    return lambda arr: all(map(pred, arr))\n",
    "\n",
    "assert(is_all(lambda x: x > 0)([1,2,3,4, 5]) is True)\n",
    "assert(is_all(lambda x: x > 0)((1,2,3,4, 0)) is not True)\n",
    "\n",
    "def is_any(pred):\n",
    "    \"\"\"\n",
    "    pred:a -> bool\n",
    "    arr: list, tuple\n",
    "    \n",
    "    assert(is_any(lambda x: x%2 is 0)([1,3,5,7,8]) is True)\n",
    "    assert(is_any(lambda x: x%2 is 0)((1,3,5,7,9)) is not True)\n",
    "    \"\"\"\n",
    "    return lambda arr: any(map(pred, arr))\n",
    "\n",
    "assert(is_any(lambda x: x%2 is 0)([1,3,5,7,8]) is True)\n",
    "assert(is_any(lambda x: x%2 is 0)((1,3,5,7,9)) is not True)\n",
    "\n",
    "\n",
    "def all_equal(arr):\n",
    "    \"\"\"\n",
    "    assert(all_equal([1,1,1]) is True)\n",
    "    assert(all_equal((1,1,2)) is not True)\n",
    "    \"\"\"\n",
    "    \n",
    "    first, *rest = arr\n",
    "    return is_all(lambda e: e == first)(rest)\n",
    "\n",
    "assert(all_equal([1,1,1]) is True)\n",
    "assert(all_equal((1,1,2)) is not True)\n"
   ]
  }
 ],
 "metadata": {
  "kernelspec": {
   "display_name": "Python 3",
   "language": "python",
   "name": "python3"
  },
  "language_info": {
   "codemirror_mode": {
    "name": "ipython",
    "version": 3
   },
   "file_extension": ".py",
   "mimetype": "text/x-python",
   "name": "python",
   "nbconvert_exporter": "python",
   "pygments_lexer": "ipython3",
   "version": "3.7.0"
  }
 },
 "nbformat": 4,
 "nbformat_minor": 2
}
