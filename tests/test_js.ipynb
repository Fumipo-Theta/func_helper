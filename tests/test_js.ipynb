{
 "cells": [
  {
   "cell_type": "code",
   "execution_count": 12,
   "metadata": {},
   "outputs": [],
   "source": [
    "var identity = (a) =>  a"
   ]
  },
  {
   "cell_type": "code",
   "execution_count": 24,
   "metadata": {},
   "outputs": [
    {
     "name": "stdout",
     "output_type": "stream",
     "text": [
      "2 3 1\n"
     ]
    }
   ],
   "source": [
    "var flip = fn => (first, ...rest) => fn(...rest, first);\n",
    "\n",
    "flip(console.log)(1,2,3)"
   ]
  },
  {
   "cell_type": "code",
   "execution_count": 10,
   "metadata": {},
   "outputs": [
    {
     "data": {
      "text/plain": [
       "[ 1, 2, 3 ]"
      ]
     },
     "execution_count": 10,
     "metadata": {},
     "output_type": "execute_result"
    }
   ],
   "source": [
    "identity(1,2,3)"
   ]
  },
  {
   "cell_type": "code",
   "execution_count": 21,
   "metadata": {},
   "outputs": [
    {
     "name": "stdout",
     "output_type": "stream",
     "text": [
      "{ name: 'John Smith' }\n",
      "{ name: 'John Smith' }\n",
      "{ name: 'John Smith' }\n"
     ]
    }
   ],
   "source": [
    "var a = { name: 'John Smith' };\n",
    "var b = {};\n",
    "var mergeFrom = flip(Object.assign);\n",
    "var mergePerson = mergeFrom.bind(null, a);\n",
    "\n",
    "mergePerson(b); // == b\n",
    "console.log(b)\n",
    "\n",
    "b = {};\n",
    "Object.assign(b, a); // == b\n",
    "console.log(b)\n",
    "\n",
    "b ={}\n",
    "flip(Object.assign)(a,b)\n",
    "console.log(b)"
   ]
  },
  {
   "cell_type": "code",
   "execution_count": null,
   "metadata": {},
   "outputs": [],
   "source": [
    "var cons = list => []"
   ]
  }
 ],
 "metadata": {
  "kernelspec": {
   "display_name": "Javascript (Node.js)",
   "language": "javascript",
   "name": "javascript"
  },
  "language_info": {
   "file_extension": ".js",
   "mimetype": "application/javascript",
   "name": "javascript",
   "version": "10.8.0"
  }
 },
 "nbformat": 4,
 "nbformat_minor": 2
}
